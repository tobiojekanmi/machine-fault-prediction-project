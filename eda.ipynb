{
 "cells": [
  {
   "cell_type": "markdown",
   "metadata": {},
   "source": [
    "# **Exploratory Data Analysis**"
   ]
  },
  {
   "cell_type": "code",
   "execution_count": null,
   "metadata": {},
   "outputs": [],
   "source": [
    "import numpy as np\n",
    "import pandas as pd\n",
    "from tqdm import tqdm\n",
    "import matplotlib.pyplot as plt "
   ]
  },
  {
   "cell_type": "code",
   "execution_count": null,
   "metadata": {},
   "outputs": [],
   "source": [
    "df1 = pd.read_csv(\"../datasets/digital_twins/train/healthy/test01_25,5hz_002.csv\")\n",
    "df2 = pd.read_csv(\"../datasets/digital_twins/train/faulty/fault_at_1/test01_25,5hz_001.csv\")\n",
    "df3 = pd.read_csv(\"../datasets/digital_twins/train/faulty/fault_at_2/test01_25,5hz_002.csv\")\n",
    "df4 = pd.read_csv(\"../datasets/digital_twins/train/faulty/fault_at_3/test01_25,5hz_003.csv\")\n"
   ]
  },
  {
   "cell_type": "code",
   "execution_count": null,
   "metadata": {},
   "outputs": [],
   "source": [
    "def remove_phase(noisy_signal1, noisy_signal2):\n",
    "    \"\"\"\n",
    "    Removes phase misalignment between two signals by aligning them based on cross-correlation.\n",
    "\n",
    "    Args:\n",
    "    - noisy_signal1 (numpy array): First noisy signal\n",
    "    - noisy_signal2 (numpy array): Second noisy signal\n",
    "\n",
    "    Returns:\n",
    "    - numpy array: Aligned second signal with removed phase misalignment\n",
    "    \"\"\"\n",
    "\n",
    "    # Calculate the cross-correlation between the two noisy signals\n",
    "    corr = np.correlate(noisy_signal1, noisy_signal2, 'full')\n",
    "\n",
    "    # Find the index of the maximum correlation value\n",
    "    corr_max_idx = np.argmax(corr)\n",
    "\n",
    "    # Roll (shift) the second noisy signal to align it based on the maximum correlation index\n",
    "    noisy_signal2 = np.roll(noisy_signal2, corr_max_idx)\n",
    "\n",
    "    return noisy_signal2\n"
   ]
  },
  {
   "cell_type": "code",
   "execution_count": null,
   "metadata": {},
   "outputs": [],
   "source": [
    "dfs = [(df1, df2), (df1, df3), (df1, df4)]\n",
    "signals = [(\"X_1\", \"Y_1\")]\n",
    "fig, axis = plt.subplots(3,3, figsize=(20,15))\n",
    "for i in range(3):\n",
    "    axis[0,i].plot(dfs[i][0]['X_1 (Mean)'][:1024], 'b')\n",
    "    axis[0,i].plot(remove_phase(dfs[i][0]['X_1 (Mean)'][:2024], dfs[i][1]['X_1 (Mean)'][:2024])[:1024], 'r')\n",
    "    axis[1,i].plot(dfs[i][0]['Y_1 (Mean)'][:1024], 'b')\n",
    "    axis[1,i].plot(remove_phase(dfs[i][0]['Y_1 (Mean)'][:2024], dfs[i][1]['Y_1 (Mean)'][:2024])[:1024], 'r')\n",
    "    axis[2,i].plot(dfs[i][0]['X_1 (Mean)'], dfs[i][0]['Y_1 (Mean)'], 'b')\n",
    "    axis[2,i].plot(dfs[i][1]['X_1 (Mean)'], dfs[i][1]['Y_1 (Mean)'], 'r')\n",
    "    axis[0,i].legend([\"Healthy\", \"Faulty\"])\n",
    "    axis[1,i].legend([\"Healthy\", \"Faulty\"])\n",
    "    axis[2,i].legend([\"Healthy\", \"Faulty\"])\n",
    "    axis[0,i].set_title(f\"Flywheel {i+1} (X_{i+1})\")\n",
    "    axis[1,i].set_title(f\"Flywheel {i+1} (Y_{i+1})\")\n",
    "    axis[2,i].set_title(f\"Flywheel {i+1} (X_{i+1} vs Y_{i+1})\")\n"
   ]
  }
 ],
 "metadata": {
  "kernelspec": {
   "display_name": "digitaltwins",
   "language": "python",
   "name": "python3"
  },
  "language_info": {
   "codemirror_mode": {
    "name": "ipython",
    "version": 3
   },
   "file_extension": ".py",
   "mimetype": "text/x-python",
   "name": "python",
   "nbconvert_exporter": "python",
   "pygments_lexer": "ipython3",
   "version": "3.11.5"
  }
 },
 "nbformat": 4,
 "nbformat_minor": 2
}
