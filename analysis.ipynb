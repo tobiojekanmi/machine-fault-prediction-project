{
 "cells": [
  {
   "cell_type": "markdown",
   "metadata": {},
   "source": [
    "# **Results Analysis**"
   ]
  },
  {
   "cell_type": "code",
   "execution_count": null,
   "metadata": {},
   "outputs": [],
   "source": [
    "import torch\n",
    "import numpy as np\n",
    "import pandas as pd\n",
    "from tqdm import tqdm\n",
    "import matplotlib.pyplot as plt \n",
    "from models import load_model\n",
    "from evaluate import predict_targets\n",
    "from train import train_data_loader, valid_data_loader, test_data_loader\n",
    "from sklearn.metrics import confusion_matrix, ConfusionMatrixDisplay"
   ]
  },
  {
   "cell_type": "code",
   "execution_count": null,
   "metadata": {},
   "outputs": [],
   "source": [
    "# Define seed for re-impelementation\n",
    "\n",
    "torch.manual_seed(42)\n",
    "if torch.cuda.is_available():\n",
    "    device = torch.device(\"cuda\")\n",
    "    torch.cuda.manual_seed(42)\n",
    "    print(\"CUDA is available.\")\n",
    "elif torch.backends.mps.is_available():\n",
    "    device = torch.device('mps')\n",
    "    torch.mps.manual_seed(42)\n",
    "    print(\"MPS is available.\")\n",
    "else:\n",
    "    device = torch.device(\"cpu\")\n",
    "    print(\"GPU is not available. Using CPU.\")"
   ]
  },
  {
   "cell_type": "markdown",
   "metadata": {},
   "source": [
    "## **1. Training and Validation Losses and Accuracies**"
   ]
  },
  {
   "cell_type": "code",
   "execution_count": null,
   "metadata": {},
   "outputs": [],
   "source": [
    "# Read the train and validation data results \n",
    "train_df = pd.read_csv(\"checkpoints/2023-12-19/13-37/train_results.csv\")\n",
    "valid_df = pd.read_csv(\"checkpoints/2023-12-19/13-37/valid_results.csv\")"
   ]
  },
  {
   "cell_type": "code",
   "execution_count": null,
   "metadata": {},
   "outputs": [],
   "source": [
    "# Visualize the losses and fault prediction accuracies\n",
    "fig, axis = plt.subplots(1,2, figsize=(15,5))\n",
    "axis[0].plot(train_df['Loss'], 'b')\n",
    "axis[0].plot(valid_df['Loss'], 'r')\n",
    "axis[0].set_title(\"Loss Function\")\n",
    "axis[0].set_xlabel(\"Epoch\")\n",
    "axis[0].set_ylabel(\"Loss\")\n",
    "axis[0].legend(['Train', 'Valid'])\n",
    "\n",
    "axis[1].plot(train_df['Fault Class'], 'b')\n",
    "axis[1].plot(valid_df['Fault Class'], 'r')\n",
    "axis[1].set_title(\"Fault Prediction Accuracy\")\n",
    "axis[1].set_xlabel(\"Epoch\")\n",
    "axis[1].set_ylabel(\"Loss\")\n",
    "axis[1].legend(['Train', 'Valid'])"
   ]
  },
  {
   "cell_type": "markdown",
   "metadata": {},
   "source": [
    "## **2. Confusion Matrix**"
   ]
  },
  {
   "cell_type": "code",
   "execution_count": null,
   "metadata": {},
   "outputs": [],
   "source": [
    "# Load the optimized model using the weights \n",
    "pred_fault_loc = True\n",
    "mask_pred_loc = True\n",
    "model = load_model(d_input_channels=6,\n",
    "                   pred_fault_loc=pred_fault_loc,\n",
    "                   mask_pred_loc=mask_pred_loc,\n",
    "                   device=device,\n",
    "                   weights_path='checkpoints/2023-12-19/13-37/model_weights.pth'\n",
    "                   )\n",
    "model.to(device)"
   ]
  },
  {
   "cell_type": "code",
   "execution_count": null,
   "metadata": {},
   "outputs": [],
   "source": [
    "# Predict the labels for all datasets\n",
    "train_targets, train_predictions = predict_targets(model, train_data_loader, pred_fault_loc=pred_fault_loc, device=device)\n",
    "valid_targets, valid_predictions = predict_targets(model, valid_data_loader, pred_fault_loc=pred_fault_loc, device=device)\n",
    "test_targets, test_predictions = predict_targets(model, test_data_loader, pred_fault_loc=pred_fault_loc, device=device)"
   ]
  },
  {
   "cell_type": "code",
   "execution_count": null,
   "metadata": {},
   "outputs": [],
   "source": [
    "# Plot the confustion matrices for all datasets\n",
    "fig, axis = plt.subplots(2, 3, figsize=(15, 7))\n",
    "idxs = [(0,0), (0,1), (0,2), (1,0), (1,1), (1,2)]\n",
    "\n",
    "class_labels = (\n",
    "    ['Healthy', 'Unhealthy'],\n",
    "    ['Healthy', 'Unhealthy'],\n",
    "    ['Healthy', 'Unhealthy'],\n",
    "    ['Fault at 1', 'Fault at 2', 'Fault at 3'],\n",
    "    ['Fault at 1', 'Fault at 2', 'Fault at 3'],\n",
    "    ['Fault at 1', 'Fault at 2', 'Fault at 3'],\n",
    "    )\n",
    "titles = (\n",
    "    'Train Data Fault Classification',\n",
    "    'Valid Data Fault Classification',\n",
    "    'Test Data Fault Classification',\n",
    "    'Train Data Fault Location Prediction',\n",
    "    'Valid Data Fault Location Prediction',\n",
    "    'Test Data Fault Location Prediction',\n",
    "    )\n",
    "\n",
    "pred_values = (\n",
    "    [train_targets[:,0], train_predictions[:,0]],\n",
    "    [valid_targets[:,0], valid_predictions[:,0]],\n",
    "    [test_targets[:,0], test_predictions[:,0]],\n",
    "    [np.argmax(train_targets[:,1:], axis=-1), np.argmax(train_predictions[:,1:], axis=-1)],\n",
    "    [np.argmax(valid_targets[:,1:], axis=-1), np.argmax(valid_predictions[:,1:], axis=-1)],\n",
    "    [np.argmax(test_targets[:,1:], axis=-1), np.argmax(test_predictions[:,1:], axis=-1)],\n",
    "    )\n",
    "\n",
    "for labels, title, pred, idx in zip(class_labels, titles, pred_values, idxs):\n",
    "    cm = confusion_matrix(pred[0], pred[1])\n",
    "    disp = ConfusionMatrixDisplay(confusion_matrix=cm, display_labels=labels)\n",
    "    i, j = idx\n",
    "    disp.plot(ax=axis[i,j], cmap=plt.cm.Blues, values_format='d')\n",
    "    disp.im_.colorbar.remove()\n",
    "    axis[i,j].set_title(title)\n",
    "    axis[i,j].set_xlabel('Predicted Labels')\n",
    "    axis[i,j].set_ylabel('True Labels')\n",
    "\n",
    "plt.tight_layout()\n",
    "plt.show()"
   ]
  }
 ],
 "metadata": {
  "kernelspec": {
   "display_name": "digitaltwins",
   "language": "python",
   "name": "python3"
  },
  "language_info": {
   "codemirror_mode": {
    "name": "ipython",
    "version": 3
   },
   "file_extension": ".py",
   "mimetype": "text/x-python",
   "name": "python",
   "nbconvert_exporter": "python",
   "pygments_lexer": "ipython3",
   "version": "3.11.5"
  }
 },
 "nbformat": 4,
 "nbformat_minor": 2
}
